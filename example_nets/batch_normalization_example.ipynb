{
 "cells": [
  {
   "cell_type": "code",
   "execution_count": 1,
   "metadata": {},
   "outputs": [
    {
     "name": "stdout",
     "output_type": "stream",
     "text": [
      "Successfully downloaded train-images-idx3-ubyte.gz 9912422 bytes.\n",
      "Extracting MNIST_data/train-images-idx3-ubyte.gz\n",
      "Successfully downloaded train-labels-idx1-ubyte.gz 28881 bytes.\n",
      "Extracting MNIST_data/train-labels-idx1-ubyte.gz\n",
      "Successfully downloaded t10k-images-idx3-ubyte.gz 1648877 bytes.\n",
      "Extracting MNIST_data/t10k-images-idx3-ubyte.gz\n",
      "Successfully downloaded t10k-labels-idx1-ubyte.gz 4542 bytes.\n",
      "Extracting MNIST_data/t10k-labels-idx1-ubyte.gz\n"
     ]
    }
   ],
   "source": [
    "import tensorflow as tf\n",
    "import numpy as np\n",
    "from tensorflow.examples.tutorials.mnist import input_data\n",
    "mnist = input_data.read_data_sets('MNIST_data', one_hot=True)\n",
    "test_data = mnist.test\n",
    "train_data = mnist.train\n",
    "valid_data = mnist.validation"
   ]
  },
  {
   "cell_type": "code",
   "execution_count": 2,
   "metadata": {
    "scrolled": false
   },
   "outputs": [],
   "source": [
    "epsilon = 1e-3\n",
    "\n",
    "class FC(object):\n",
    "    def __init__(self, learning_rate=0.01):\n",
    "        self.lr = learning_rate\n",
    "        self.sess = tf.Session()\n",
    "        self.x = tf.placeholder(tf.float32,[None, 784], 'x')\n",
    "        self.y_ = tf.placeholder(tf.float32, [None, 10], 'y_')\n",
    "        self.training = tf.placeholder(tf.bool, name='training')\n",
    "        self._build_net(self.x,'FC')\n",
    "\n",
    "        with tf.variable_scope('Accuracy'):\n",
    "            self.correct_prediction = tf.equal(tf.argmax(self.y,1), tf.argmax(self.y_,1))\n",
    "            self.accuracy = tf.reduce_mean(tf.cast(self.correct_prediction, tf.float32))\n",
    "        with tf.variable_scope('Train'):\n",
    "            self.loss = tf.reduce_mean(tf.nn.softmax_cross_entropy_with_logits(labels=self.y_, logits=self.y)) \n",
    "            extra_update_ops = tf.get_collection(tf.GraphKeys.UPDATE_OPS)\n",
    "            with tf.control_dependencies(extra_update_ops):\n",
    "                self.train_opt = tf.train.GradientDescentOptimizer(self.lr).minimize(self.loss)\n",
    "        self.sess.run(tf.global_variables_initializer())\n",
    "        \n",
    "    def batch_norm_wrapper(self, inputs, is_training, decay = 0.999):\n",
    "\n",
    "        scale = tf.Variable(tf.ones([inputs.get_shape()[-1]]))\n",
    "        beta = tf.Variable(tf.zeros([inputs.get_shape()[-1]]))\n",
    "        pop_mean = tf.Variable(tf.zeros([inputs.get_shape()[-1]]), trainable=False)\n",
    "        pop_var = tf.Variable(tf.ones([inputs.get_shape()[-1]]), trainable=False)\n",
    "\n",
    "        if is_training==tf.constant(True):\n",
    "            batch_mean, batch_var = tf.nn.moments(inputs,[0])\n",
    "            train_mean = tf.assign(pop_mean,\n",
    "                                   pop_mean * decay + batch_mean * (1 - decay))\n",
    "            train_var = tf.assign(pop_var,\n",
    "                                  pop_var * decay + batch_var * (1 - decay))\n",
    "            with tf.control_dependencies([train_mean, train_var]):\n",
    "                return tf.nn.batch_normalization(inputs,\n",
    "                    batch_mean, batch_var, beta, scale, epsilon)\n",
    "        else:\n",
    "            return tf.nn.batch_normalization(inputs,\n",
    "                pop_mean, pop_var, beta, scale, epsilon)\n",
    "        \n",
    "    def _build_net(self, x, scope):\n",
    "        with tf.variable_scope(scope):\n",
    "            bn = tf.layers.batch_normalization(x, axis=1, training=self.training, name = 'bn')\n",
    "            #bn = self.batch_norm_wrapper(x, self.training)\n",
    "            hidden = tf.layers.dense(bn, 50, activation=tf.nn.relu, name='l1')\n",
    "            self.y = tf.layers.dense(hidden, 10, name='o')\n",
    "    \n",
    "    def learn(self, x, y):\n",
    "        loss,_ = self.sess.run([self.loss,self.train_opt],{self.x:x, self.y_:y, self.training:True})\n",
    "        return loss\n",
    "    \n",
    "    def inference(self, x, y=None):\n",
    "        y = self.sess.run(self.y,{self.x:x, self.training:False})\n",
    "        #loss,_ = self.sess.run(self.loss,{self.x:x, self.y_:y, self.training:False})\n",
    "        return y\n",
    "    \n",
    "fc = FC()"
   ]
  },
  {
   "cell_type": "code",
   "execution_count": 3,
   "metadata": {
    "scrolled": false
   },
   "outputs": [],
   "source": [
    "OUTPUT_GRAPH = True\n",
    "if OUTPUT_GRAPH:\n",
    "    tf.summary.FileWriter(\"logs/\", fc.sess.graph)\n"
   ]
  },
  {
   "cell_type": "code",
   "execution_count": 4,
   "metadata": {
    "scrolled": true
   },
   "outputs": [
    {
     "name": "stdout",
     "output_type": "stream",
     "text": [
      "2.70122\n",
      "0.862728\n",
      "0.519033\n",
      "0.401137\n",
      "0.317988\n",
      "validation accuracy: 0.917200\n"
     ]
    }
   ],
   "source": [
    "for i in range(1000):\n",
    "    batch = train_data.next_batch(100)\n",
    "    loss = fc.learn(batch[0],batch[1])\n",
    "    if i%200 == 0:\n",
    "        print(loss)\n",
    "    \n",
    "batch = valid_data.next_batch(5000)\n",
    "print(\"validation accuracy: %f\" % fc.sess.run(fc.accuracy,{fc.x:batch[0], fc.y_:batch[1], fc.training:True}))"
   ]
  },
  {
   "cell_type": "code",
   "execution_count": 5,
   "metadata": {},
   "outputs": [
    {
     "name": "stdout",
     "output_type": "stream",
     "text": [
      "0.914\n"
     ]
    }
   ],
   "source": [
    "nm = 1000\n",
    "count = 0\n",
    "for _ in range(nm):\n",
    "    t = test_data.next_batch(1)\n",
    "    x = t[0]\n",
    "    y = fc.inference(x)\n",
    "    a = np.argmax(y,axis=1)\n",
    "    b = np.argmax(t[1],axis=1)\n",
    "    if a==b:\n",
    "        count += 1\n",
    "print count/float(nm)"
   ]
  }
 ],
 "metadata": {
  "kernelspec": {
   "display_name": "Python 2",
   "language": "python",
   "name": "python2"
  },
  "language_info": {
   "codemirror_mode": {
    "name": "ipython",
    "version": 2
   },
   "file_extension": ".py",
   "mimetype": "text/x-python",
   "name": "python",
   "nbconvert_exporter": "python",
   "pygments_lexer": "ipython2",
   "version": "2.7.12"
  }
 },
 "nbformat": 4,
 "nbformat_minor": 2
}
